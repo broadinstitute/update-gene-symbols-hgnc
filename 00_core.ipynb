{
 "cells": [
  {
   "cell_type": "code",
   "execution_count": null,
   "metadata": {},
   "outputs": [],
   "source": [
    "# default_exp core"
   ]
  },
  {
   "cell_type": "markdown",
   "metadata": {},
   "source": [
    "# core\n",
    "> Update gene symbols to official HGNC gene symbols."
   ]
  },
  {
   "cell_type": "code",
   "execution_count": null,
   "metadata": {},
   "outputs": [],
   "source": [
    "#hide\n",
    "from nbdev.showdoc import *"
   ]
  },
  {
   "cell_type": "code",
   "execution_count": null,
   "metadata": {},
   "outputs": [],
   "source": [
    "#export\n",
    "import requests, sys\n",
    "\n",
    "def get_official_gene_symbol(gs):\n",
    "    \"\"\"Get official gene symbol from HGNC\n",
    "    :param gs: str, gene symbol\n",
    "    :return: off_gs, official HGNC gene symbol\n",
    "    \"\"\"\n",
    "    gene_id_info = get_gene_id(gs)\n",
    "    new_symbol = ''\n",
    "    if len(gene_id_info)>0:\n",
    "        for g in gene_id_info:\n",
    "            server = \"https://rest.ensembl.org/\"\n",
    "            ext = 'xrefs/id/'+g['id']+'?external_db=HGNC;all_levels=1;'\n",
    "            r = requests.get(server+ext, headers={ \"Content-Type\" : \"application/json\"})\n",
    "            id_info = r.json()\n",
    "            if id_info[0]['display_id'] == gs:\n",
    "                new_symbol = gs\n",
    "                break\n",
    "            else:\n",
    "                new_symbol = id_info[0]['display_id']\n",
    "        return new_symbol\n",
    "    else:\n",
    "        return 'Gene not found'\n",
    "\n",
    "def get_gene_id(gs):\n",
    "    \"\"\"Get Ensembl gene ID of symbol\n",
    "    :param gs: str, gene symbol\n",
    "    :return: gene_id, Ensembl gene ID\n",
    "    \"\"\"\n",
    "    server = \"https://rest.ensembl.org/\"\n",
    "    ext = 'xrefs/symbol/homo_sapiens/'+gs+'?external_db=HGNC;feature_type=gene;all_levels=1;'\n",
    "    r = requests.get(server+ext, headers={ \"Content-Type\" : \"application/json\"})\n",
    "    if not r.ok:\n",
    "        r.raise_for_status()\n",
    "        sys.exit(\"Gene not found\")\n",
    "    gene_id_info = r.json()\n",
    "    return gene_id_info"
   ]
  }
 ],
 "metadata": {
  "kernelspec": {
   "display_name": "Python 3",
   "language": "python",
   "name": "python3"
  }
 },
 "nbformat": 4,
 "nbformat_minor": 2
}